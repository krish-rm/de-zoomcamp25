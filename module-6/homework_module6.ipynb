{
 "cells": [
  {
   "cell_type": "markdown",
   "metadata": {},
   "source": [
    "### Docker Command Output: `docker exec -it redpanda-1 rpk version`\n",
    "\n",
    "\n",
    "Version:     v24.2.18\n",
    "Git ref:     f9a22d4430\n",
    "Build date:  2025-02-14T12:52:55Z\n",
    "OS/Arch:     linux/amd64\n",
    "Go version:  go1.23.1\n",
    "\n",
    "Redpanda Cluster\n",
    "  node-1  v24.2.18 - f9a22d443087b824803638623d6b7492ec8221f9"
   ]
  },
  {
   "cell_type": "markdown",
   "metadata": {},
   "source": [
    "### Docker Command Output: `docker exec -it redpanda-1 rpk topic create green-trips`\n",
    "\n",
    "\n",
    "TOPIC        STATUS\n",
    "green-trips  OK"
   ]
  },
  {
   "cell_type": "code",
   "execution_count": 4,
   "metadata": {},
   "outputs": [
    {
     "data": {
      "text/plain": [
       "'2.1.1'"
      ]
     },
     "execution_count": 4,
     "metadata": {},
     "output_type": "execute_result"
    }
   ],
   "source": [
    "import kafka\n",
    "kafka.__version__"
   ]
  },
  {
   "cell_type": "code",
   "execution_count": 1,
   "metadata": {},
   "outputs": [
    {
     "data": {
      "text/plain": [
       "True"
      ]
     },
     "execution_count": 1,
     "metadata": {},
     "output_type": "execute_result"
    }
   ],
   "source": [
    "import json\n",
    "\n",
    "from kafka import KafkaProducer\n",
    "\n",
    "def json_serializer(data):\n",
    "    return json.dumps(data).encode('utf-8')\n",
    "\n",
    "server = 'localhost:9092'\n",
    "\n",
    "producer = KafkaProducer(\n",
    "    bootstrap_servers=[server],\n",
    "    value_serializer=json_serializer\n",
    ")\n",
    "\n",
    "producer.bootstrap_connected()"
   ]
  },
  {
   "cell_type": "code",
   "execution_count": 3,
   "metadata": {},
   "outputs": [
    {
     "name": "stdout",
     "output_type": "stream",
     "text": [
      "Time taken to send dataset: 214.62 seconds\n"
     ]
    }
   ],
   "source": [
    "import pandas as pd\n",
    "import json\n",
    "from kafka import KafkaProducer\n",
    "from time import time\n",
    "\n",
    "# Define Kafka topic and server\n",
    "topic_name = \"green-trips\"\n",
    "server = \"localhost:9092\"\n",
    "\n",
    "# Initialize Kafka producer\n",
    "producer = KafkaProducer(\n",
    "    bootstrap_servers=[server],\n",
    "    value_serializer=lambda v: json.dumps(v).encode('utf-8')\n",
    ")\n",
    "\n",
    "# Read CSV file\n",
    "file_path = \"green_tripdata_2019-10.csv\"\n",
    "df = pd.read_csv(file_path, usecols=[\n",
    "    'lpep_pickup_datetime', 'lpep_dropoff_datetime', \n",
    "    'PULocationID', 'DOLocationID', \n",
    "    'passenger_count', 'trip_distance', 'tip_amount'\n",
    "])\n",
    "\n",
    "# Convert timestamp columns to string (JSON doesn't support Timestamp types)\n",
    "df['lpep_pickup_datetime'] = df['lpep_pickup_datetime'].astype(str)\n",
    "df['lpep_dropoff_datetime'] = df['lpep_dropoff_datetime'].astype(str)\n",
    "\n",
    "# Start measuring time\n",
    "t0 = time()\n",
    "\n",
    "# Send each row as a Kafka message\n",
    "for _, row in df.iterrows():\n",
    "    message = row.to_dict()\n",
    "    producer.send(topic_name, value=message)\n",
    "\n",
    "# Flush producer to ensure all messages are sent\n",
    "producer.flush()\n",
    "\n",
    "# Stop measuring time\n",
    "t1 = time()\n",
    "took = t1 - t0\n",
    "\n",
    "# Output total time taken\n",
    "print(f\"Time taken to send dataset: {took:.2f} seconds\")\n"
   ]
  }
 ],
 "metadata": {
  "kernelspec": {
   "display_name": "venv",
   "language": "python",
   "name": "python3"
  },
  "language_info": {
   "codemirror_mode": {
    "name": "ipython",
    "version": 3
   },
   "file_extension": ".py",
   "mimetype": "text/x-python",
   "name": "python",
   "nbconvert_exporter": "python",
   "pygments_lexer": "ipython3",
   "version": "3.10.0"
  }
 },
 "nbformat": 4,
 "nbformat_minor": 2
}
